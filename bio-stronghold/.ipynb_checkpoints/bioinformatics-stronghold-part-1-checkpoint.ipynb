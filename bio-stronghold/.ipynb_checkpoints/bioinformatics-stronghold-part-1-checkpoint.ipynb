{
 "cells": [
  {
   "cell_type": "code",
   "execution_count": 1,
   "metadata": {},
   "outputs": [],
   "source": [
    "import pyperclip as pcp"
   ]
  },
  {
   "cell_type": "markdown",
   "metadata": {},
   "source": [
    "# 1. [Counting DNA Nucleotides](http://rosalind.info/problems/dna/)"
   ]
  },
  {
   "cell_type": "markdown",
   "metadata": {},
   "source": [
    "**Problem**\n",
    "\n",
    "A string is simply an ordered collection of symbols selected from some alphabet and formed into a word; the length of a string is the number of symbols that it contains.\n",
    "\n",
    "An example of a length 21 DNA string (whose alphabet contains the symbols 'A', 'C', 'G', and 'T') is \"ATGCTTCAGAAAGGTCTTACG.\"\n",
    "\n",
    "**Given:** A DNA string s of length at most 1000 nt.\n",
    "\n",
    "**Return:** Four integers (separated by spaces) counting the respective number of times that the symbols 'A', 'C', 'G', and 'T' occur in s.\n",
    "\n",
    "**Sample Dataset**\n",
    "```\n",
    "AGCTTTTCATTCTGACTGCAACGGGCAATATGTCTCTGTGTGGATTAAAAAAAGAGTGTCTGATAGCAGC\n",
    "```\n",
    "**Sample Output**\n",
    "```\n",
    "20 12 17 21\n",
    "```"
   ]
  },
  {
   "cell_type": "code",
   "execution_count": 2,
   "metadata": {},
   "outputs": [],
   "source": [
    "intxt = open(\"input.txt\").read()"
   ]
  },
  {
   "cell_type": "code",
   "execution_count": 3,
   "metadata": {},
   "outputs": [
    {
     "name": "stdout",
     "output_type": "stream",
     "text": [
      "2489 2442 2403 2306\n"
     ]
    }
   ],
   "source": [
    "counter = dict.fromkeys(sorted(set(intxt)), 0)\n",
    "for each in intxt:\n",
    "    counter[each] += 1\n",
    "print(\"{A} {C} {G} {T}\".format(**counter))"
   ]
  },
  {
   "cell_type": "markdown",
   "metadata": {},
   "source": [
    "# 2. [Transcribing DNA into RNA](http://rosalind.info/problems/rna/)"
   ]
  },
  {
   "cell_type": "markdown",
   "metadata": {},
   "source": [
    "**Problem** \n",
    "\n",
    "An RNA string is a string formed from the alphabet containing 'A', 'C', 'G', and 'U'.\n",
    "\n",
    "Given a DNA string t corresponding to a coding strand, its transcribed RNA string u is formed by replacing all occurrences of 'T' in t with 'U' in u.\n",
    "\n",
    "**Given:** A DNA string t having length at most 1000 nt.\n",
    "\n",
    "**Return:** The transcribed RNA string of t.\n",
    "\n",
    "Sample Dataset\n",
    "```\n",
    "GATGGAACTTGACTACGTAAATT ```\n",
    "\n",
    "Sample Output\n",
    "```\n",
    "GAUGGAACUUGACUACGUAAAUU```\n"
   ]
  },
  {
   "cell_type": "code",
   "execution_count": 4,
   "metadata": {},
   "outputs": [],
   "source": [
    "intxt = open(\"input.txt\").read()"
   ]
  },
  {
   "cell_type": "code",
   "execution_count": 5,
   "metadata": {},
   "outputs": [
    {
     "name": "stdout",
     "output_type": "stream",
     "text": [
      ">ROSALIND_1096\n",
      "CACAGAAAGCCUUAAUAAUAGAUCCCCCAACUAGUAUACUAGGUUAACUGGACCGCACAG\n",
      "GAGAGAAGCUAAUGUAAAAAUGGUUAGGACAUAGAAUGAGUGUCCUCACGAAGGUAAUAC\n",
      "CUGCUAGUGGACUCGACAGCAGAUUUGAAACCAAACGUUCUAUCACGCGCCGGAGCGAGG\n",
      "UUGUACGGCAAGAGCAAUUCCAACAAUUCCAGGGCGGCCUUACGAGACGGUUUCAUACAG\n",
      "GAUCUGUUAUUAAACGCUCACCUUAUAACUUUAGCGAAUAUAAGGAAUAUAGGUAAAUGC\n",
      "GCUCUGCAUGCCGCGCUGCUCCAUAUCUAACAACAUAGCGACAGAAGAACAACAAUGGGC\n",
      "CUUCCCUCACUGCGGAUCGCAAGCAGUGAUGGGGCUCGCAGGAUGCAGAGACAUCUUUCC\n",
      "GGCGUUGUCACUAAGGUAGGUUGCAAACUAAUUGCGUAAUCCGAUGGUUGCGGUAUGAAU\n",
      "AUGCAUUGACACGCUCACCCCUCAGCGGAAUGAGAUCGGGGCUAUUAAUGUUAUAGGUUG\n",
      "UCAGAAUUGUACGGGAACGGUUUCCUGAAGAGUUACAGGCGACAGCACCACGCCGUUAGC\n",
      "CCCUUAAAAUUUACACACACGGACACAGGACUUCAUGCAAGAAUGCGGGCACAGGAGUUA\n",
      "CGCGAUAUCCCGUAUACCAAAACUGAGCUCGAAUAUAUCCCGGGAAGAGCGUGGGUAACU\n",
      "UACAGCUACGGAUCAAGAAAGCACGUGUUUGAAGAUUCCCCGGCGUGUUGCCGGUCUCCC\n",
      "UCGCAUUAAGUCGAUACGCGCAGCGGGUGGCCCUUUACUCCAGGGUGUAAAUGGCCAGGA\n",
      "UGCCCCAAAUCGGCGCCCCGGGUUAUAAUAUGUUGUUGACGACGGAUACACGCCCUGCGU\n",
      "AAAAGUCUAUUCGACCGGGAGAAGAGGAAGCCUGUUUUAGAGUACCUCUCCAUAAUGCUC\n",
      "UUCC\n",
      ">ROSALIND_0444\n",
      "AUAAAACACCUUACUCGUAGUACCAAUCGCCACGUGAGUCAACAGGCUGGUAGUUACAAU\n",
      "GGGCUGGAGGCACGUCCAGAGCCUGCCACUAACGAUACGUACAUGAUCUCAUCAACAAAG\n",
      "AGACCUAAUUUAGAAUUUUUUCUUGAUUCUUACGCGCGCGGGUCUUCGUAAACCAGUGCU\n",
      "GAGGCAGAGCCAUACCACCCCGAUAGCUUUGGCGGUUGAAUGCGAACUGUGUAGGAUUCG\n",
      "ACACCAACCCCAAGAAAUACUUUGGGGGAGAGCGUCAACUCGUCUGAACUUAGCUUCGAC\n",
      "GGCCACAGGGAGUAGCCUCACCUCAAACACCGCCUGUGUACCUUCCCAGACUUAAUACUC\n",
      "GCCUGCAGUGUUUCCCGGAAGGCGACAGUGAUGAGCAGCCAUGGGGGCUCUCUUAGGGCU\n",
      "AGUCAACUUGCCCUGUAAAUAGAUUUCCGAGUCGGUACGGCUAAUCGAUACAUUCAUCGU\n",
      "UGCACAGGGUUAAGUACUACGGUAAUGUACUUAGCGUAAUAAGAUUUCAUUUCAGCAUUC\n",
      "AUACCGUAUGGAGCGUUACUGCAUGUUGAAAUGGUGAUAAGUCCCGUCGAAGGGUAGGGU\n",
      "CCCGAUCUGCCUUGAUAUUUGAACGUGCCAAAUGCUAGUUGAGUCGAUAUGCACGUCCCU\n",
      "AGGCAAUGUGAUGAGGCGAAGUCGUCUUAUUAGAAGCCCAAAUCAUAACAUACACACGCC\n",
      "AAUUUGUGAUCUGUUUAAGUCUACUUAAGCACCCUGGUUCUCGAGACAUAUACACGCAUA\n",
      "CGAACUAACGAUCGUUCUGACACCAAUCCGCCGCCGAGUCGGGGCACAGAAUUUGCGGUA\n",
      "CCGGGAAUCCAGUGCUGCUGGUCGAGCUACACAGGCAACGAACGUGGCCGUGCUACUAAC\n",
      "CUCUCUUCUUUUUUUUAGUAGGUUAUAACAUCGACCAUUACGACUGUCAGUGCGCCCAGC\n",
      "UUUC\n",
      ">ROSALIND_3638\n",
      "CUCCUGUUCCCAUUGGUUUAUCAUACUGGGUUAGUCCUAGAAUGCGGCCAGUCACUUAAG\n",
      "GGAGUUCUAAGUUACGCCGAUCCUGAGACCAUAUAAAAAGUUAAUGACGACAGCGAGUGG\n",
      "CCUGUGUUUUAGCGUUCGUCACGCAUGGACUUCACGCGCCAGAAAAGUUGAUUUACCUCA\n",
      "CCCAGGAGAGUAUCCGUUCCCUGCUACCUCGCGCGCAGCUCAGCUCGAUCUUCCCGAUUC\n",
      "GAACAAUUCGAAGUUUGACCGACGUGCGGUGACACUUCAUGUUGUGGCAAACCUGUCACA\n",
      "GCACGCACGCGUGGAUCGACAUUCUUCGCAUGCUCUUAAAGCGCAAGUCACUAGGCAGGU\n",
      "GCUUGCCGUAUGGAACGCUCAGCCAGCAGAACAGUAUGCUAGGGUCCCAAGCAAAAGAUA\n",
      "UCUGCUGUUUAGGGGUUAAUUCUACUCUUUCCUCAAUGGAGAACUAAUUUGGGACGUACG\n",
      "CACUGCACGCUCCCCACUUACUUAGCCGGACCGGAUAUCUACGAGAUUAGCAAUGGUUGG\n",
      "GGUUCGGCUUCGAGACAUGAGGGGGACGGACCUAAAAGAAGUUGCCCUAUCCAAUUGUAA\n",
      "GGGAGAUAGCUUAGCUGAGUUUAUCGUAUUGAGAAGCGGCUCCCUCAAACGGUAACGUCA\n",
      "CACGGCGAGUGUUAUGUCAGUCGCGUGUCUUUAUGACGAUUCUCUCUCGGGCACCGAUGA\n",
      "CUCCGUCAUAUCAAAAUCUGUUAGCCUGGUGAGACGCACUCAACGUGGCCGGAAAACAAA\n",
      "GAAAGAGCGAGGCACACCGAGCGUCCAUUCAGUUCGCAAAGGUUGACUCGUUCAAAGUAC\n",
      "CAAAAGAUACAGGCGGAGCGAUGUACGCAAUUAUUGGGAGCUUUCAAUGUAUAUGUGCCU\n",
      "GAGUUGGUUUUCGAGUAAUGCGAACGAUCAUGAUGAAACGAUGCCCAGAGCCAUGUGAGA\n",
      "AUUA\n",
      ">ROSALIND_5459\n",
      "CUUACCAUUCCCUGGGCUACACCGUAGGUCCUCUCCAGUCAUGGCGCCUACCCGUCUCUU\n",
      "CGUUCCCCAUCCUGGCGGAGUACGCAAUGAAGAGCGUAGGCGCAGCUUCGGGGCGAAGGA\n",
      "GUUGAGCAUAAUGUGAUUCGAAUGACUCUGUUGGAGCUGCGACUCGGGAAUCUGAUUUAC\n",
      "UGAAACCGAAUGGGACAUAGCGGGACAAGCUGGGAAAACUACUGUUAUCCAAGGGCGCAC\n",
      "CACAAGGUAUUGGUAUAUAUGCAGUUAAGCUUCACGCGUAACCCCACAAUACUUGAACCA\n",
      "UCGUGGCCAGUUACGUGGCCGUGCAACGCGCUUACGUAGCUAACAUAACGACAAUGAACG\n",
      "UUUCCCUGCUGCAGUAAAUGUCCGUGAAUUGCGCGGACCGUUGAACGAUGGCGCUCUAAU\n",
      "UGGCGCACGACUAGGUAGUCGUCGUUCCCCGCAUAACAAUGCGUAUGAAAUCUAACCUCG\n",
      "ACAUCCCUGAAGAGGUCUAAUAAACAUCCUUUUAAUGGGCGGGGCAUCUUCAAUCACAGA\n",
      "GACAUUAGGCGGCUGCGAUACCAUGAAACAGUAUCAACGCCGCUUUCGUGGUGUACACGC\n",
      "AGCUGAUUGUAUCACUCGGCAGGAGACAUACCCAAUCUUUCGCGCGUACUUCCCUCCAAG\n",
      "GCCUAUCACUGGGCAGGGCAAACUUUGUAUCUAGGGAGAUUCCGCACUGUGUCGUGAGGC\n",
      "UUAAACGCGCAUCCCCAAGAGAAACUCGUCGAGGCCAGGGUCCCCAGGCAAUUAAAUGGA\n",
      "CGACAGCCGGUCGAAAGCUGGCAACUGCUCCGCUCCCAAUUUGAUUGACACUUAAGCUGA\n",
      "CGCUUAGGUGCGAAAUAGGAGUGACCCUAAAGGCAACAAGGUUAAAGUUCCCUUUUAUAU\n",
      "ACAGAAAAGCUUCUCUUCGCCCAGCGUGUUCACAACUAUGAUUUCGCAUACAAACUUCAC\n",
      "UUCA\n",
      ">ROSALIND_4811\n",
      "UCUAAUUAUCCUGUAGACGCAACACCUGCAUACAAAAGCAAACUAUCACUUAAUGCCCAU\n",
      "GACUCAACGCAAAACGCCGUUCCUGUGCGACAGGGCCCCAUCCGAGGGAUAUCAGUCCGA\n",
      "GGGGUUCAUCUAUGCAGUUCCCGAGUUUCUACGAAUGAAGUAUCUGGACACUUCGGACGU\n",
      "CUGAGGGACAGUCCGUAAGCUAGAUGCACUUCCUGCGAAGCGUGAGAGGACCGGCAUCAA\n",
      "GUUCAGAUAUUCCUUGAUCGACGGAGUCUGUAUACUUGGACGUUAGAAUUUAUCGACUUC\n",
      "UGACCGGUAAUUGGCUGUACAGCGCCAUUAGUACAUAAAUACAGGCACACUAAUCUCAGG\n",
      "GCUGCGCACGCUCGGCGCGGACCUCCAGCAAGUAAGGUAGGGAGACGUCCUCUUUCGGAG\n",
      "ACGAGUCGUAGGAAUGAUCCUCCUAGAAAACGACAUCGACAAUCAGACUAGUCACUUUCC\n",
      "GAUGGAACGGGCGGCACCUAAGGCGCUAGACGCGAGUGUCACGAUGAGGACGAAAACAUG\n",
      "GGAGAAUUGAGGCCACUAUUAGAGAAGUCAAGUCUCCGUUCGAUGUUCGUAAACUGGCCC\n",
      "UGCAGUGGGUCAAGAUGUGUACCGUCUCGCGACACGUGCGUGCCUCGAUUUAACUCCAUG\n",
      "UGACCUGUCCAGUUACCCAAUGUUUGCGAUCAUGCUUAGCACCGCUGCCGAUUGGCAACU\n",
      "GUCCAAGCAGGGCCGCAAAGGUGCUAACUCUAUUGCUAGACUUGGAUAUGUCAACUCGGA\n",
      "AAAAAGACACCCACUGGUUAAGGUUGAAAUAUCAACCGUAGUGUACUCCUGUCAAGGGAG\n",
      "CGUGUCCUAUGUUCUCGCUAUCUGAGUAGGGUGAAGGGUCCAUUAAUAAGCGGUGACUAA\n",
      "AGAAGAUAGCCGUUCGCAUAACCUCACUUGAUUCACAGUCGCGAAGGUACUUGCAAGUGU\n",
      "UAUG\n",
      ">ROSALIND_1217\n",
      "AGGCUAGCCGCAUAUUUACCUGCUCCACCAUCCCGCUCUGAUAUCUUUGUGAACCUUAAA\n",
      "GGCACGACGAAGCCCGCUGGAAAAAGAAAAACUGUGCGAACAAUCCCCGUAACCUAGGCU\n",
      "GGGGGGCGGUCAGUACCAGAGGUCGUGGGCCUGGCUCGGGCAUGCAUGACCUGCGAGGGC\n",
      "CCCAGCAACUCCUCCCUGAUUUCGGGCCUGCGCUCAAUAUCAUAAAAAGGAACGGGUCAA\n",
      "UCCUCAAUACUACACAGUAAUUCUGUGUUCAAAGCAUUACCAUUUCAGCGAGAUGGCCUC\n",
      "CGCCACAACUUUGUAGAAUGCACUCGCUUUGCAACUUCGACGCGAAAUAGCGAUGUCCGA\n",
      "UGCAGUUCGCGAGAUAGGUGGCUACUUGUACAUAUCCGAUUGUUCAGUUCUUAUUCAAGA\n",
      "AGCCACGUGGAGGCGCUGGGGCGAAUGUCGAGACUUCUGAUCCAUCUUCCGGCAUAGAAG\n",
      "GCUAAGAGUCCUGCUUUGGCACUAAGCUCGGACUCCCUGUGCCAGUAACAUGGGGCGCUA\n",
      "ACGCAGGAUUGAGGAACGGGUCCAGACCCGUGCCUAUCUGGCUCAAAUGCCCAGGAUAGA\n",
      "UUCCCGGUGAUGCUGUAACAAUGGUUGUAUACGAGCUAUGAUGUAGAACGGGCACUGGUC\n",
      "CUCCUUGCCUGCUUAGAAGGCGUUCACAACAGUGAAAAGAUCCUCGCCUCAUGACCUUCC\n",
      "CUGCGGCACUGGUUCACGACGCCCAGCUGGCAUCGCUGCGGGUCUAAGUUCCUUCCUUGA\n",
      "GUAGCUCGAGAUCUUUACAAAUUUCGUGGGCUUCCAGAAAAACAUGGACAGGUGACCCCC\n",
      "CCACGAUCUAUUACACAAUGUCGACCGGCCGACCAAGCUGACUUAGCGGACGUGGAUCCC\n",
      "CCCACCCUAAAAACGUCAAAGCAAGAUCCUUCCAGCGAAACCACAUUACGGAGCUGGUAG\n",
      "CAAU\n",
      ">ROSALIND_6484\n",
      "GCACCACUCGAACAUUACUGCGGAGAUAAUUCUCAUUCGCGUUAUGGAGGAUCCGCACGU\n",
      "GCCGAGCGGUCAAACGAGGCAGGUCGAGAGCAGACCAUGACUAGUUACUCUCAGUCGAGA\n",
      "ACGCGACCACAGUAUGCGUGAGAAAAUAGGCAAUUAGGCGCUGAAGCGUACUCUGACGAA\n",
      "GCCCAAUACUGCAGUACACAGCGCGGCCGCGAAGGGCAAUGGAUAUAGGAGCAAUCAUCA\n",
      "CCGGAUGUUGAUUGGGCGGUUGUAGCUUGCUCCGUAAAAAGGAGAGGACGCUGCCGAUUG\n",
      "GUGCCGUAUACGAGGGAAUCUCUCCAAAGCUUAAGAGCAAAUAGGAUUCCAAACGUCUGG\n",
      "GUCCUGCGACCCCUCCCAGCGGUUCACUAAGAUACCAGUAGUUACCUGCAGACGGGGAGA\n",
      "UUCUGGAUGUCCGUUGGCUAGGUCCGGGAUUGCUCGCGUCCAUGUAUGCCGUUUCGGUGA\n",
      "CCUGUCGCACAAGCUCAGUGUUGCUACAUUUCUGAUUUGGGCCCGGUGCCGAGAUGCCUG\n",
      "UCAUUAAUGUUACUUGUGCACGGCUCCAUCAUGAUUGACCCUGCCCGCCUAAUAGGUCGG\n",
      "CAAGCAGAUGACGGGAAGUGUGCAUUGACGGGGAUCGAUUGCCUGAUUCCGCCCCCCCCA\n",
      "CCUAGUCACCGUAGAUAGUACCCGUUCUAUACCAGCACACCUAGGCACAUGUGCGCCUUC\n",
      "GCACUUCGCGCGGGGUCUCUUCCACGAAACGAGCAAAUACCACACGCUCAACUGUGUCAA\n",
      "AGAUUUUGGGGUGAACUUCCUAACUCGACGCUCAGUACUAGUAUUUUGCCAUUGCCUUGU\n",
      "ACAGAGUUUCGUCAGCGGAUCCUAUAAUGGGAUUUGCACGCGGAACGCCUAUCGAGCAUG\n",
      "UUCUCUCUAAUGCAAAAGCCUCGUCUGCGAUUGGCGGAACUCCGUCCUAUCCGAUGAUGG\n",
      "UCAG\n",
      ">ROSALIND_8897\n",
      "AUAAGCCUGCACUGCAUGUCCCCAAGGUGCCUCUCCGUGUUAUAAACAGUUACGAUGUCU\n",
      "GACCGGUACACUCUGGUGCACGUUACAUUGGUUGAGAGUCGCAAGUCAGUCUCUCGAGCU\n",
      "UCCGGGAUGCCCAAGCAGGGCCGCAUCGUGCUUAAUUGUAUUGGCCUGUAACAUGGUUCU\n",
      "UCAUCUAUCGGUUAUAUCAGCCCGAAGUUUCGCAAAUCAAACCCCCUUGAGUCAUAUGAC\n",
      "UGAACAAUAGGGAAAGCCCGUUAUAUGUCAUAGUCUGGUGUGCUGGACUCUUACUCCAUU\n",
      "CAAUUUCAGGUAGCGGCUACAGAGGCGUUUCUCCUUGGUGAUGCCGGCCGAUGCAAACGG\n",
      "UUUUCUUCCGGACUUCAGACACGUAUAACCGUCACGUCCCCAUGCCGUAACGAUAAAAUA\n",
      "GUCGCGGACGUUAAUUCAGAGUUCCCGAGGGUAAGCGCUUCCAUGCAUACAUUAUAUACU\n",
      "CUGCGACCAUAGAUCCACACAGCGGUUACAUGGCGUUCAUAGUGUUUGGAUGAAAUAGAU\n",
      "UGUCAUAGUUCGGCUUGAGUAUGCGUUCGCCCCUCGUUCGACCAAGUUAGCUACAUACAC\n",
      "AGUGAUGCUCACUGAUGAGGGCUAUGUGACCGCCACCUUAUCCAUAAAAUUCUCACAAAG\n",
      "GAUCUUAGCAUUACUCGAGAAACGAUCCUAGGGUGAAGAAGAGACACAGUCGGCUGCGCU\n",
      "UAAUAAUCACCUGGUUACCUGGAUCGACUUCUAACAGGAACGUCAUUGCGCGGCAUGGGC\n",
      "GUCCUUAUUAGCGUCUAACACGAUUAUCGUGAGCAUCAAUCGUAUGAGACUAAGGAAGAU\n",
      "GUUCGGACGGAUGCUGCAAGAUAGGUAGUAAGAGCCUGCUUAUAUAUUCAGCCUCGGGUA\n",
      "UCUCCGAUAUACUCCCUGACCUCCGGGCAUACAAUGCUCCUAGCAAAUUCGAGGAAAACU\n",
      "CAUA\n",
      ">ROSALIND_2825\n",
      "AUUAUUUAACAUGUAUAUUUGGCAUAAAGAGGCCGUAACGCUAUACACUUAUCCCCCUAU\n",
      "GAACGCCGAUCCCGCAUCUUACUACAUGAAAUGGGUUGCACUCAUCUCCCGAAAAAGUAU\n",
      "ACGGGUGCUAAGCUGACCUCUAGUGCCGACCCUACUGCGAGACGUUGAUUGAGACGAUUG\n",
      "UGACCUGCCGGCCGGGGCCCGGAGCAUUGGGGUCAGUUAUUAGAACUCAGAGACCGCCUG\n",
      "CCUUGCUGAAGCUCGAACAGCGCCACAUCUUCAUUUUGUUCUGUACCUGUGCCUCACGGG\n",
      "GGGAGAAGACGCGCCUGGAUCGACACUGGAAUGUACUGCUCAAAAAUAUCAGGGUCCCUA\n",
      "UUUCCAUCGGUCACAUUUCAGACCCUGAGUGCGUGGUCUGAAUAAGGCGUAGUUGGCGGG\n",
      "ACCGUCAAAGAAGAUCUGUAGGCACAUAGCCAAUUCGGGAGUGUGAGCAUGAAUACAAGU\n",
      "AAUUUGGUAUCGAGCGACGUGUCCACGGGGCGACGUCGCAGGCCCAGGCGACGACGACGU\n",
      "UGCACAUUCACACUAGUAUGCUCCUGUAGGUCUCUGUAUAGUGAGUGUUCCGUCAGGCUC\n",
      "CACCAGCCAUGAGUUCUGCCAUAUCGUGAAAAGUGCGAGCUUCUACCUCAUUAAAUUCAU\n",
      "ACCGCCACGCGAAGUACCUCCUAGUGGCGAACCGGACACGCUUACUACUCCUAAGAUCCC\n",
      "UAACAUGCCACUGAGCAGGUCACCCUACGACUGAACCGUGCUAUUCGCCUAAGUGAAACA\n",
      "AGAGAGAAUGCACCUAUCAGCCAGGAGACACCGACCCUCUGACCACGCCUGAUAGACGUU\n",
      "CGGCGAUUGUCGUACUAACAGCUAACAUCUAGAACUGGAAAGGAUCUUUAACUCUGAUGG\n",
      "GAACCGACAUUACGCAUGGUCCAUAUGAUGUCUCCAACACUCCUACCUAUUCCGUCGGUG\n",
      "CCAC\n",
      ">ROSALIND_6917\n",
      "GCCGGCUAGUCAUUGUUAUUAUUAUGCCAGAGACUUGCUCGCUGGCACUCGCAAAAGCUU\n",
      "AGCUUAGAAGGAGGACGCACGCCAUCUAGCAGAAGUGUAUGACACAAUCCAAUUUCUUAG\n",
      "GUUGAUUACUCUGAUCCUUCAACUGGACCAGCAGGGGAGAACCAGCUUCGUUCUCAGCUA\n",
      "ACCCUUUCUCGAGAGCUUGAAGGAGUCGGCUCCGCCAAUGGAACUCAUAGGAAAAGUAGA\n",
      "UGGCAUCCUGGCCAAAUCCGGAAAAACAAAUACGCGGCCACUCAAGGGUCGUGUCUGAAC\n",
      "ACUUAAUCUGCGAACCUGUCCCAGUCGGUAAUAGGUACUGCCUUUUACAUUGCUUGGUGC\n",
      "GAACACCCUUGGACGAAAGUCCGUUGGGCUGCUUACGCUCUGCCAGCGAUGCGAUCGCGA\n",
      "UGGAUCAAUGGUUAGACAAAAUCCCUGAGGCAUGUGCUCCGCACAGGGAUGGGGGCCGGA\n",
      "UUUUGUCUGUGGGUCCCUCUUGCGGAACUAAGUUACAAACACUGAAGUGGCAUCAGGCGC\n",
      "GAAGAACUCCCGCCCAACUUGGGCCAAUGUACAGUGGUCAAUCUGGAUGUGGAGCAGCGG\n",
      "UACGUAGCAACUUCUGACAAUCUACGUCCUGACGGCUCUAUGCAUGCAUAGCAGGCAUAG\n",
      "AGCUGCAGAGCACGAUGCAAGAAAGAACAGAUGAGAAGCCUUUCCUGGUGUCCGAGCGGA\n",
      "AGCUACGUCAGUGAGUGGUUAAAUCGUGUAUUAGCAAGGAGAGAUGUAGAAUGCUAAAGG\n",
      "ACAUUCUAACAAGUGCUGUGGUAGGAGGAGUACAUGCAAUACCGGCUGUUCAGCUAAGAA\n",
      "AUGCGCGUCUCAUAAAAAUAAUGGUUAUACCGCAUGGCGGCGUUGCCCAGUUACGACGUG\n",
      "ACGACUGGGCUACAGCACCUGAGCCACAAAAUUGAACCGCGCUUUCAUUUGAUGUCACGA\n",
      "AUGC\n"
     ]
    }
   ],
   "source": [
    "output = intxt.upper().replace(\"T\", \"U\")\n",
    "print(output)\n",
    "pcp.copy(output)"
   ]
  },
  {
   "cell_type": "markdown",
   "metadata": {},
   "source": [
    "# 3. [Complementing a Strand of DNA](http://rosalind.info/problems/revc/)"
   ]
  },
  {
   "cell_type": "markdown",
   "metadata": {},
   "source": [
    "**Problem**\n",
    "\n",
    "In DNA strings, symbols 'A' and 'T' are complements of each other, as are 'C' and 'G'.\n",
    "\n",
    "The reverse complement of a DNA string s is the string sc formed by reversing the symbols of s, then taking the complement of each symbol (e.g., the reverse complement of \"GTCA\" is \"TGAC\").\n",
    "\n",
    "**Given:** A DNA string s of length at most 1000 bp.\n",
    "\n",
    "**Return:** The reverse complement sc of s.\n",
    "\n",
    "Sample Dataset\n",
    "```\n",
    "AAAACCCGGT```\n",
    "Sample Output\n",
    "```\n",
    "ACCGGGTTTT```"
   ]
  },
  {
   "cell_type": "code",
   "execution_count": 7,
   "metadata": {},
   "outputs": [
    {
     "ename": "KeyError",
     "evalue": "'>'",
     "output_type": "error",
     "traceback": [
      "\u001b[0;31m---------------------------------------------------------------------------\u001b[0m",
      "\u001b[0;31mKeyError\u001b[0m                                  Traceback (most recent call last)",
      "\u001b[0;32m<ipython-input-7-c8ffb0608c6c>\u001b[0m in \u001b[0;36m<module>\u001b[0;34m\u001b[0m\n\u001b[1;32m      5\u001b[0m \u001b[0mcom_str\u001b[0m \u001b[0;34m=\u001b[0m \u001b[0;34m\"\"\u001b[0m\u001b[0;34m\u001b[0m\u001b[0;34m\u001b[0m\u001b[0m\n\u001b[1;32m      6\u001b[0m \u001b[0;32mfor\u001b[0m \u001b[0meach\u001b[0m \u001b[0;32min\u001b[0m \u001b[0mintxt\u001b[0m\u001b[0;34m:\u001b[0m\u001b[0;34m\u001b[0m\u001b[0;34m\u001b[0m\u001b[0m\n\u001b[0;32m----> 7\u001b[0;31m     \u001b[0mcom_str\u001b[0m \u001b[0;34m+=\u001b[0m \u001b[0mcmpl\u001b[0m\u001b[0;34m[\u001b[0m\u001b[0meach\u001b[0m\u001b[0;34m]\u001b[0m\u001b[0;34m\u001b[0m\u001b[0;34m\u001b[0m\u001b[0m\n\u001b[0m\u001b[1;32m      8\u001b[0m \u001b[0;34m\u001b[0m\u001b[0m\n\u001b[1;32m      9\u001b[0m \u001b[0mrev_str\u001b[0m \u001b[0;34m=\u001b[0m\u001b[0;34m\"\"\u001b[0m\u001b[0;34m\u001b[0m\u001b[0;34m\u001b[0m\u001b[0m\n",
      "\u001b[0;31mKeyError\u001b[0m: '>'"
     ]
    }
   ],
   "source": [
    "# method 1\n",
    "intxt= open(\"input.txt\").read()\n",
    "cmpl = {\"A\":\"T\",\"C\": \"G\",\"T\": \"A\",\"G\":\"C\"}\n",
    "\n",
    "com_str = \"\"\n",
    "for each in intxt:\n",
    "    com_str += cmpl[each]\n",
    "\n",
    "rev_str =\"\"\n",
    "for i in com_str:\n",
    "    rev_str = i + rev_str\n",
    "\n",
    "pcp.copy(rev_str)\n",
    "print(rev_str)"
   ]
  },
  {
   "cell_type": "code",
   "execution_count": null,
   "metadata": {},
   "outputs": [],
   "source": [
    "# Method 2\n",
    "intxt = open(\"input.txt\").read()[::-1]\n",
    "intxt.translate(intxt.maketrans(\"ATCG\", \"TAGC\"))"
   ]
  },
  {
   "cell_type": "markdown",
   "metadata": {},
   "source": [
    "# 4. [Rabbits and Recurrence Relations](http://rosalind.info/problems/fib/)"
   ]
  },
  {
   "cell_type": "markdown",
   "metadata": {},
   "source": [
    "### Problem\n",
    "A sequence is an ordered collection of objects (usually numbers), which are allowed to repeat. Sequences can be finite or infinite. Two examples are the finite sequence (π,−2‾√,0,π) and the infinite sequence of odd numbers (1,3,5,7,9,…). We use the notation an to represent the n-th term of a sequence.\n",
    "\n",
    "A recurrence relation is a way of defining the terms of a sequence with respect to the values of previous terms. In the case of Fibonacci's rabbits from the introduction, any given month will contain the rabbits that were alive the previous month, plus any new offspring. A key observation is that the number of offspring in any month is equal to the number of rabbits that were alive two months prior. As a result, if Fn represents the number of rabbit pairs alive after the n-th month, then we obtain the Fibonacci sequence having terms Fn that are defined by the recurrence relation Fn=Fn−1+Fn−2 (with F1=F2=1 to initiate the sequence). Although the sequence bears Fibonacci's name, it was known to Indian mathematicians over two millennia ago.\n",
    "\n",
    "When finding the n-th term of a sequence defined by a recurrence relation, we can simply use the recurrence relation to generate terms for progressively larger values of n. This problem introduces us to the computational technique of dynamic programming, which successively builds up solutions by using the answers to smaller cases.\n",
    "\n",
    "**Given:** Positive integers n≤40 and k≤5.\n",
    "\n",
    "**Return:** The total number of rabbit pairs that will be present after n months, if we begin with 1 pair and in each generation, every pair of reproduction-age rabbits produces a litter of k rabbit pairs (instead of only 1 pair).\n",
    "\n",
    "Sample Dataset\n",
    "```\n",
    "5 3\n",
    "```\n",
    "Sample Output\n",
    "```\n",
    "19```"
   ]
  },
  {
   "cell_type": "code",
   "execution_count": null,
   "metadata": {},
   "outputs": [],
   "source": [
    "# method 1\n",
    "def fib_rabbit(n,k):\n",
    "    rep = 0\n",
    "    new = 1\n",
    "    for i in range(1, n):\n",
    "        rep = rep + new\n",
    "        new = (rep - new)*k\n",
    "        total = rep+new\n",
    "    return total\n",
    "\n",
    "# input format taking\n",
    "v = input().split(\" \")\n",
    "n = int(v[0])\n",
    "k = int(v[1])\n",
    "pcp.copy(fib_rabbit(n,k))\n",
    "pcp.paste()"
   ]
  },
  {
   "cell_type": "code",
   "execution_count": null,
   "metadata": {},
   "outputs": [],
   "source": [
    "# method 2\n",
    "def fib_rabbit2(n,k):\n",
    "    seq = [1,1]\n",
    "    for i in range(2, n):\n",
    "        seq.append(seq[i-2]*3+seq[i-1])\n",
    "    return seq"
   ]
  },
  {
   "cell_type": "code",
   "execution_count": null,
   "metadata": {},
   "outputs": [],
   "source": [
    "fib_rabbit2(5,3)[-1]"
   ]
  },
  {
   "cell_type": "markdown",
   "metadata": {},
   "source": [
    "# 5. [Computing GC Content](http://rosalind.info/problems/gc/)"
   ]
  },
  {
   "cell_type": "markdown",
   "metadata": {},
   "source": [
    "### Problem\n",
    "The GC-content of a DNA string is given by the percentage of symbols in the string that are 'C' or 'G'. For example, the GC-content of \"AGCTATAG\" is 37.5%. Note that the reverse complement of any DNA string has the same GC-content.\n",
    "\n",
    "DNA strings must be labeled when they are consolidated into a database. A commonly used method of string labeling is called FASTA format. In this format, the string is introduced by a line that begins with '>', followed by some labeling information. Subsequent lines contain the string itself; the first line to begin with '>' indicates the label of the next string.\n",
    "\n",
    "In Rosalind's implementation, a string in FASTA format will be labeled by the ID \"Rosalind_xxxx\", where \"xxxx\" denotes a four-digit code between 0000 and 9999.\n",
    "\n",
    "#### Given: \n",
    "At most 10 DNA strings in FASTA format (of length at most 1 kbp each).\n",
    "\n",
    "\n",
    "#### Return: \n",
    "The ID of the string having the highest GC-content, followed by the GC-content of that string. Rosalind allows for a default error of 0.001 in all decimal answers unless otherwise stated; please see the note on absolute error below.\n",
    "\n",
    "Sample Dataset\n",
    "```\n",
    ">Rosalind_6404\n",
    "CCTGCGGAAGATCGGCACTAGAATAGCCAGAACCGTTTCTCTGAGGCTTCCGGCCTTCCC\n",
    "TCCCACTAATAATTCTGAGG\n",
    ">Rosalind_5959\n",
    "CCATCGGTAGCGCATCCTTAGTCCAATTAAGTCCCTATCCAGGCGCTCCGCCGAAGGTCT\n",
    "ATATCCATTTGTCAGCAGACACGC\n",
    ">Rosalind_0808\n",
    "CCACCCTCGTGGTATGGCTAGGCATTCAGGAACCGGAGAACGCTTCAGACCAGCCCGGAC\n",
    "TGGGAACCTGCGGGCAGTAGGTGGAAT```\n",
    "\n",
    "Sample Output\n",
    "```\n",
    "Rosalind_0808\n",
    "60.919540```"
   ]
  },
  {
   "cell_type": "code",
   "execution_count": null,
   "metadata": {},
   "outputs": [],
   "source": [
    "# method 1\n",
    "intxt = open(\"input.txt\").read().split(\">\")[1:]\n",
    "data = {}\n",
    "for d in intxt:\n",
    "    k,v = d.split(\"\\n\", 1)\n",
    "    v = v.replace(\"\\n\", \"\")\n",
    "    data[k] = round(len(v.replace(\"A\", \"\").replace(\"T\", \"\"))/len(v)*100, 6)\n",
    "pcp.copy(str(max(data, key=data.get)) +\"\\n\"+str(data[max(data, key=data.get)]))"
   ]
  },
  {
   "cell_type": "markdown",
   "metadata": {},
   "source": [
    "# 6. [Counting Point Mutations](http://rosalind.info/problems/hamm/)"
   ]
  },
  {
   "cell_type": "markdown",
   "metadata": {},
   "source": [
    "### Problem\n",
    "\n",
    "Figure 2. The Hamming distance between these two strings is 7. Mismatched symbols are colored red.\n",
    "Given two strings s and t of equal length, the Hamming distance between s and t, denoted dH(s,t), is the number of corresponding symbols that differ in s and t. See Figure 2.\n",
    "\n",
    "#### Given: \n",
    "Two DNA strings s and t of equal length (not exceeding 1 kbp).\n",
    "\n",
    "#### Return: \n",
    "The Hamming distance dH(s,t).\n",
    "\n",
    "Sample Dataset\n",
    "```\n",
    "GAGCCTACTAACGGGAT\n",
    "CATCGTAATGACGGCCT```\n",
    "Sample Output\n",
    "```\n",
    "7```"
   ]
  },
  {
   "cell_type": "code",
   "execution_count": null,
   "metadata": {},
   "outputs": [],
   "source": [
    "data = open(\"input.txt\").read()\n",
    "k,v=data.split(\"\\n\")\n",
    "count = 0\n",
    "for i in range(len(k)):\n",
    "    if k[i] != v[i]:\n",
    "        count += 1\n",
    "pcp.copy(count)\n",
    "print(count)"
   ]
  },
  {
   "cell_type": "markdown",
   "metadata": {},
   "source": [
    "# 7. [Mendel's First Law](http://rosalind.info/problems/iprb/)"
   ]
  },
  {
   "cell_type": "markdown",
   "metadata": {},
   "source": [
    "### Problem\n",
    "\n",
    "Figure 2. The probability of any outcome (leaf) in a probability tree diagram is given by the product of probabilities from the start of the tree to the outcome. For example, the probability that X is blue and Y is blue is equal to (2/5)(1/4), or 1/10.\n",
    "Probability is the mathematical study of randomly occurring phenomena. We will model such a phenomenon with a random variable, which is simply a variable that can take a number of different distinct outcomes depending on the result of an underlying random process.\n",
    "\n",
    "For example, say that we have a bag containing 3 red balls and 2 blue balls. If we let X represent the random variable corresponding to the color of a drawn ball, then the probability of each of the two outcomes is given by Pr(X=red)=35 and Pr(X=blue)=25.\n",
    "\n",
    "Random variables can be combined to yield new random variables. Returning to the ball example, let Y model the color of a second ball drawn from the bag (without replacing the first ball). The probability of Y being red depends on whether the first ball was red or blue. To represent all outcomes of X and Y, we therefore use a probability tree diagram. This branching diagram represents all possible individual probabilities for X and Y, with outcomes at the endpoints (\"leaves\") of the tree. The probability of any outcome is given by the product of probabilities along the path from the beginning of the tree; see Figure 2 for an illustrative example.\n",
    "\n",
    "An event is simply a collection of outcomes. Because outcomes are distinct, the probability of an event can be written as the sum of the probabilities of its constituent outcomes. For our colored ball example, let A be the event \"Y is blue.\" Pr(A) is equal to the sum of the probabilities of two different outcomes: Pr(X=blue and Y=blue)+Pr(X=red and Y=blue), or 310+110=25 (see Figure 2 above).\n",
    "\n",
    "#### Given: \n",
    "    Three positive integers k, m, and n, representing a population containing k+m+n organisms: k individuals are homozygous dominant for a factor, m are heterozygous, and n are homozygous recessive.\n",
    "\n",
    "#### Return: \n",
    "    The probability that two randomly selected mating organisms will produce an individual possessing a dominant allele (and thus displaying the dominant phenotype). Assume that any two organisms can mate.\n",
    "\n",
    "Sample Dataset\n",
    "```\n",
    "2 2 2```\n",
    "Sample Output\n",
    "```\n",
    "0.78333```"
   ]
  },
  {
   "cell_type": "code",
   "execution_count": null,
   "metadata": {},
   "outputs": [],
   "source": [
    "from scipy.special import comb\n",
    "\n",
    "def pp(k,m,n):\n",
    "    t = k+m+n\n",
    "    kk = comb(k,2)/comb(t,2)\n",
    "    mm = comb(m,2)/comb(t,2)\n",
    "    km = comb(k,1)*comb(m,1)/comb(t,2)\n",
    "    kn = comb(k,1)*comb(n,1)/comb(t,2)\n",
    "    mn = comb(m,1)*comb(n,1)/comb(t,2)\n",
    "    return kk*1+mm*3/4+km*1+kn*1+mn*.5\n",
    "\n",
    "\n"
   ]
  },
  {
   "cell_type": "code",
   "execution_count": null,
   "metadata": {},
   "outputs": [],
   "source": [
    "pp(19,15,18)"
   ]
  },
  {
   "cell_type": "code",
   "execution_count": null,
   "metadata": {},
   "outputs": [],
   "source": [
    "prob = {\n",
    "    \"km\": 3/4,\n",
    "    \"kn\": 1,\n",
    "    \"mn\": .5,\n",
    "    \"mm\": 3/4   \n",
    "}"
   ]
  },
  {
   "cell_type": "code",
   "execution_count": null,
   "metadata": {},
   "outputs": [],
   "source": [
    "comb(2,1)*comb(2,1)/comb(6,2)"
   ]
  },
  {
   "cell_type": "code",
   "execution_count": null,
   "metadata": {},
   "outputs": [],
   "source": [
    "8/30"
   ]
  },
  {
   "cell_type": "code",
   "execution_count": null,
   "metadata": {},
   "outputs": [],
   "source": [
    "  "
   ]
  },
  {
   "cell_type": "code",
   "execution_count": null,
   "metadata": {},
   "outputs": [],
   "source": [
    "8/30+8/30+8/30*3/4+2/30*3/4"
   ]
  },
  {
   "cell_type": "code",
   "execution_count": null,
   "metadata": {},
   "outputs": [],
   "source": [
    "27/30"
   ]
  },
  {
   "cell_type": "code",
   "execution_count": null,
   "metadata": {},
   "outputs": [],
   "source": [
    "from itertools import combinations"
   ]
  },
  {
   "cell_type": "code",
   "execution_count": null,
   "metadata": {},
   "outputs": [],
   "source": [
    "combinations(3,2)"
   ]
  },
  {
   "cell_type": "code",
   "execution_count": null,
   "metadata": {},
   "outputs": [],
   "source": [
    "comb(2,2)/comb(6,2)"
   ]
  },
  {
   "cell_type": "code",
   "execution_count": null,
   "metadata": {},
   "outputs": [],
   "source": [
    "2/30"
   ]
  },
  {
   "cell_type": "code",
   "execution_count": null,
   "metadata": {},
   "outputs": [],
   "source": [
    "23.5/30"
   ]
  },
  {
   "cell_type": "markdown",
   "metadata": {},
   "source": [
    "# 8. [Translating RNA into Protein](http://rosalind.info/problems/prot/)"
   ]
  },
  {
   "cell_type": "markdown",
   "metadata": {},
   "source": [
    "### Problem\n",
    "The 20 commonly occurring amino acids are abbreviated by using 20 letters from the English alphabet (all letters except for B, J, O, U, X, and Z). Protein strings are constructed from these 20 symbols. Henceforth, the term genetic string will incorporate protein strings along with DNA strings and RNA strings.\n",
    "\n",
    "The RNA codon table dictates the details regarding the encoding of specific codons into the amino acid alphabet.\n",
    "\n",
    "#### Given: \n",
    "    An RNA string s corresponding to a strand of mRNA (of length at most 10 kbp).\n",
    "\n",
    "#### Return: \n",
    "    The protein string encoded by s.\n",
    "\n",
    "Sample Dataset\n",
    "```\n",
    "AUGGCCAUGGCGCCCAGAACUGAGAUCAAUAGUACCCGUAUUAACGGGUGA```\n",
    "Sample Output\n",
    "```\n",
    "MAMAPRTEINSTRING```"
   ]
  },
  {
   "cell_type": "code",
   "execution_count": null,
   "metadata": {
    "scrolled": false
   },
   "outputs": [],
   "source": [
    "# Method 1 \n",
    "data = open(\"input.txt\").read().strip()\n",
    "codon = open(\"codon.txt\").read().replace(\"      \", \"   \").split(\"\\n\")\n",
    "code = {}\n",
    "for each in codon:\n",
    "    for i in each.split(\"   \"):\n",
    "        k,v = i.split(\" \")\n",
    "        code[k] = v.upper()\n",
    "pep = \"\"\n",
    "for i in range(0,len(data), 3):\n",
    "    pep = pep + code[data[i:i+3]]\n",
    "pcp.copy(pep.replace(\"STOP\", \"\"))\n",
    "print(pep.replace(\"STOP\", \"\"))"
   ]
  },
  {
   "cell_type": "code",
   "execution_count": null,
   "metadata": {},
   "outputs": [],
   "source": [
    "# Method 2\n",
    "data = open(\"input.txt\").read().strip()\n",
    "codon = open(\"codon.txt\").read().upper().split()\n",
    "code = dict(zip(codon[0::2], codon[1::2]))\n",
    "pep = \"\"\n",
    "for i in range(0,len(data), 3):\n",
    "    pep = pep + code[data[i:i+3]]\n",
    "pcp.copy(pep.replace(\"STOP\", \"\"))\n",
    "print(pep.replace(\"STOP\", \"\"))"
   ]
  },
  {
   "cell_type": "markdown",
   "metadata": {},
   "source": [
    "# 9. [Finding a Motif in DNA](http://rosalind.info/problems/subs/)"
   ]
  },
  {
   "cell_type": "markdown",
   "metadata": {},
   "source": [
    "### Problem\n",
    "Given two strings s and t, t is a substring of s if t is contained as a contiguous collection of symbols in s (as a result, t must be no longer than s).\n",
    "\n",
    "The position of a symbol in a string is the total number of symbols found to its left, including itself (e.g., the positions of all occurrences of 'U' in \"AUGCUUCAGAAAGGUCUUACG\" are 2, 5, 6, 15, 17, and 18). The symbol at position i of s is denoted by s[i].\n",
    "\n",
    "A substring of s can be represented as s[j:k], where j and k represent the starting and ending positions of the substring in s; for example, if s = \"AUGCUUCAGAAAGGUCUUACG\", then s[2:5] = \"UGCU\".\n",
    "\n",
    "The location of a substring s[j:k] is its beginning position j; note that t will have multiple locations in s if it occurs more than once as a substring of s (see the Sample below).\n",
    "\n",
    "#### Given: \n",
    "    Two DNA strings s and t (each of length at most 1 kbp).\n",
    "\n",
    "#### Return: \n",
    "    All locations of t as a substring of s.\n",
    "\n",
    "Sample Dataset\n",
    "```\n",
    "GATATATGCATATACTT\n",
    "ATAT```\n",
    "Sample Output\n",
    "```\n",
    "2 4 10```"
   ]
  },
  {
   "cell_type": "code",
   "execution_count": null,
   "metadata": {},
   "outputs": [],
   "source": [
    "data,key = open(\"input.txt\").read().split(\"\\n\")"
   ]
  },
  {
   "cell_type": "code",
   "execution_count": null,
   "metadata": {
    "scrolled": true
   },
   "outputs": [],
   "source": [
    "# Method 1\n",
    "count = []\n",
    "for i in range(len(data)):\n",
    "    if data[i:i+len(key)] == key:\n",
    "        count.append(i+1)\n",
    "output = str(count).translate(str.maketrans(\"[,]\", \",,,\")).replace(\",\", \"\")\n",
    "pcp.copy(output)\n",
    "print(output)"
   ]
  },
  {
   "cell_type": "code",
   "execution_count": null,
   "metadata": {},
   "outputs": [],
   "source": [
    "# method 2\n",
    "count=[]\n",
    "for i in range(len(data)):\n",
    "    if data[i:].startswith(key):\n",
    "        count.append(i+1)\n",
    "output = str(count).translate(str.maketrans(\"[,]\", \",,,\")).replace(\",\", \"\")\n",
    "pcp.copy(output)\n",
    "print(output)"
   ]
  },
  {
   "cell_type": "markdown",
   "metadata": {},
   "source": [
    "# 10. [Consensus and Profile](http://rosalind.info/problems/cons/)"
   ]
  },
  {
   "cell_type": "markdown",
   "metadata": {},
   "source": [
    "### Problem\n",
    "A matrix is a rectangular table of values divided into rows and columns. An m×n matrix has m rows and n columns. Given a matrix A, we write Ai,j to indicate the value found at the intersection of row i and column j.\n",
    "\n",
    "Say that we have a collection of DNA strings, all having the same length n. Their profile matrix is a 4×n matrix P in which P1,j represents the number of times that 'A' occurs in the jth position of one of the strings, P2,j represents the number of times that C occurs in the jth position, and so on (see below).\n",
    "\n",
    "A consensus string c is a string of length n formed from our collection by taking the most common symbol at each position; the jth symbol of c therefore corresponds to the symbol having the maximum value in the j-th column of the profile matrix. Of course, there may be more than one most common symbol, leading to multiple possible consensus strings.\n",
    "```\n",
    "\n",
    "                A T C C A G C T\n",
    "                G G G C A A C T\n",
    "                A T G G A T C T\n",
    "DNA Strings\t A A G C A A C C\n",
    "                T T G G A A C T\n",
    "                A T G C C A T T\n",
    "                A T G G C A C T\n",
    "                \n",
    "            A   5 1 0 0 5 5 0 0\n",
    "Profile\t C   0 0 1 4 2 0 6 1\n",
    "            G   1 1 6 3 0 1 0 0\n",
    "            T   1 5 0 0 0 1 1 6\n",
    "            \n",
    "   Consensus    A T G C A A C T\n",
    "\n",
    "```\n",
    "#### Given: \n",
    "A collection of at most 10 DNA strings of equal length (at most 1 kbp) in FASTA format.\n",
    "\n",
    "#### Return: \n",
    "A consensus string and profile matrix for the collection. (If several possible consensus strings exist, then you may return any one of them.)\n",
    "\n",
    "Sample Dataset\n",
    "```\n",
    ">Rosalind_1\n",
    "ATCCAGCT\n",
    ">Rosalind_2\n",
    "GGGCAACT\n",
    ">Rosalind_3\n",
    "ATGGATCT\n",
    ">Rosalind_4\n",
    "AAGCAACC\n",
    ">Rosalind_5\n",
    "TTGGAACT\n",
    ">Rosalind_6\n",
    "ATGCCATT\n",
    ">Rosalind_7\n",
    "ATGGCACT```\n",
    "Sample Output\n",
    "```\n",
    "ATGCAACT\n",
    "A: 5 1 0 0 5 5 0 0\n",
    "C: 0 0 1 4 2 0 6 1\n",
    "G: 1 1 6 3 0 1 0 0\n",
    "T: 1 5 0 0 0 1 1 6```"
   ]
  },
  {
   "cell_type": "code",
   "execution_count": null,
   "metadata": {
    "scrolled": true
   },
   "outputs": [],
   "source": [
    "# method 1\n",
    "data = open(\"input.txt\").read().split(\">\")[1:]\n",
    "ddd = []\n",
    "for each in data:\n",
    "    ddd.append(each.split(\"\\n\", 1)[1].replace(\"\\n\", \"\"))\n",
    "matrix = [list(d) for d in ddd]\n",
    "zz = list(zip(*matrix))\n",
    "\n",
    "profile = []\n",
    "for i in range(len(zz)):\n",
    "    count = {\"A\":0, \"C\":0, \"G\": 0, \"T\": 0 }\n",
    "    for each in zz[i]:\n",
    "        count[each] += 1\n",
    "    profile.append(list(count.values()))\n",
    "\n",
    "consensus = \"\"\n",
    "replace = {0:\"A\", 1:\"C\", 2: \"G\", 3: \"T\" }\n",
    "for each in profile:\n",
    "    consensus += replace[each.index(max(each))]\n",
    "    \n",
    "pp = []\n",
    "for i in list(zip(*profile)):\n",
    "    pp.append(list(i))\n",
    "file = open(\"output.txt\", \"w\")\n",
    "\n",
    "file.write(consensus)\n",
    "file.write(\"\\n\")\n",
    "for i in range(len(pp)):\n",
    "    file.write(replace[i] + \": \" + str(pp[i]).translate(str.maketrans(\"[,]\",\",,,\")).replace(\",\", \"\"))\n",
    "    file.write(\"\\n\")\n",
    "file.close()"
   ]
  },
  {
   "cell_type": "code",
   "execution_count": null,
   "metadata": {},
   "outputs": [],
   "source": [
    "#  method 2\n",
    "# def cons(strings):\n",
    "#     from collections import Counter\n",
    "#     counters = map(Counter, zip(*strings))\n",
    "#     consensus = \"\".join(c.most_common(1)[0][0] for c in counters)\n",
    "#     profile_matrix = \"\\n\".join(b + \": \" + \\\n",
    "#         \" \".join(str(c[b]) for c in counters) for b in \"ACGT\")\n",
    "#     return consensus + \"\\n\" + profile_matrix"
   ]
  },
  {
   "cell_type": "markdown",
   "metadata": {},
   "source": [
    "# [Mortal Fibonacci Rabbits](http://rosalind.info/problems/fibd/)\n",
    "## Problem\n",
    "\n",
    "Figure 4. A figure illustrating the propagation of Fibonacci's rabbits if they die after three months.\n",
    "Recall the definition of the Fibonacci numbers from “Rabbits and Recurrence Relations”, which followed the recurrence relation Fn=Fn−1+Fn−2 and assumed that each pair of rabbits reaches maturity in one month and produces a single pair of offspring (one male, one female) each subsequent month.\n",
    "\n",
    "Our aim is to somehow modify this recurrence relation to achieve a dynamic programming solution in the case that all rabbits die out after a fixed number of months. See Figure 4 for a depiction of a rabbit tree in which rabbits live for three months (meaning that they reproduce only twice before dying).\n",
    "\n",
    "### Given: \n",
    "Positive integers n≤100 and m≤20.\n",
    "\n",
    "### Return: \n",
    "The total number of pairs of rabbits that will remain after the n-th month if all rabbits live for m months.\n",
    "\n",
    "```\n",
    "Sample Dataset\n",
    "6 3\n",
    "Sample Output\n",
    "4```"
   ]
  },
  {
   "cell_type": "code",
   "execution_count": 34,
   "metadata": {},
   "outputs": [],
   "source": [
    "n,m = list(map(lambda x: int(x), open(\"input.txt\").read().split(\" \")))"
   ]
  },
  {
   "cell_type": "code",
   "execution_count": 41,
   "metadata": {},
   "outputs": [
    {
     "data": {
      "text/plain": [
       "[[1, 0, 1, 1, 2, 3, 4], [0, 1, 1, 2, 3, 5, 7], [0, 0, 0, 0, 0, 1, 1]]"
      ]
     },
     "execution_count": 41,
     "metadata": {},
     "output_type": "execute_result"
    }
   ],
   "source": [
    "def fibd(n,m):\n",
    "    new=[1]\n",
    "    rep = [0]\n",
    "    die = [0]\n",
    "    for i in range(1,n):\n",
    "        new.append(rep[i-1]-die[i-1])\n",
    "        rep.append(new[i-1]+rep[i-1]-die[i-1])\n",
    "        die.append(new[i-m] if i>m else 0)\n",
    "    return [new,rep,die]\n",
    "fibd(6,3)\n",
    "        \n",
    "    "
   ]
  },
  {
   "cell_type": "code",
   "execution_count": 39,
   "metadata": {},
   "outputs": [
    {
     "ename": "NameError",
     "evalue": "name 'new' is not defined",
     "output_type": "error",
     "traceback": [
      "\u001b[0;31m---------------------------------------------------------------------------\u001b[0m",
      "\u001b[0;31mNameError\u001b[0m                                 Traceback (most recent call last)",
      "\u001b[0;32m<ipython-input-39-389cc6b7ae5a>\u001b[0m in \u001b[0;36m<module>\u001b[0;34m\u001b[0m\n\u001b[0;32m----> 1\u001b[0;31m \u001b[0mnew\u001b[0m\u001b[0;34m\u001b[0m\u001b[0;34m\u001b[0m\u001b[0m\n\u001b[0m",
      "\u001b[0;31mNameError\u001b[0m: name 'new' is not defined"
     ]
    }
   ],
   "source": [
    "new"
   ]
  },
  {
   "cell_type": "code",
   "execution_count": null,
   "metadata": {},
   "outputs": [],
   "source": []
  }
 ],
 "metadata": {
  "kernelspec": {
   "display_name": "Python 3",
   "language": "python",
   "name": "python3"
  },
  "language_info": {
   "codemirror_mode": {
    "name": "ipython",
    "version": 3
   },
   "file_extension": ".py",
   "mimetype": "text/x-python",
   "name": "python",
   "nbconvert_exporter": "python",
   "pygments_lexer": "ipython3",
   "version": "3.7.4"
  }
 },
 "nbformat": 4,
 "nbformat_minor": 4
}
